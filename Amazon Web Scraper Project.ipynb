{
 "cells": [
  {
   "cell_type": "code",
   "execution_count": null,
   "id": "dd97fe22-769f-40b7-b719-8b292fb3cfe5",
   "metadata": {},
   "outputs": [],
   "source": [
    "# import libraries\n",
    "\n",
    "from bs4 import BeautifulSoup\n",
    "import requests\n",
    "import time\n",
    "import datetime\n",
    "\n",
    "import smtplib"
   ]
  },
  {
   "cell_type": "code",
   "execution_count": null,
   "id": "3e56004e-4420-4820-b8bc-fd8835e28afd",
   "metadata": {},
   "outputs": [],
   "source": [
    "# Connect to website\n",
    "\n",
    "URL = 'https://www.amazon.com/Peryiter-Mountain-Abstract-Minimalist-Bathroom/dp/B0CCXNTLHB/ref=sr_1_8?crid=3P45KZAWQDLL0&dib=eyJ2IjoiMSJ9.19sXC6Yh2x9c2lhoOlXanC-ZA0v5qnUCCm9b7gfR_3oKo95iohQ145AR4sRX6LFAwQSuCgvMkbHaD2xeTEDzW26Y8WHQBCKELUbxHtWUT7rCrJ8503jEcEe2mYCofNmUv8Fqbt7THFCIqA67U_kaf06RQZcdCI9ir17O-C-Xl0hfJem11BNKxAzSXkotaVmltFUnOjEqHISp99D1U_pQ3CC0IbqOqlgxLejAwNd2uoYXSp8N8-1CkRW8tawULgeB9dnD_79DgOhXWWsmScrJcJSVrv8iN7YBRL2lCHvr1NQ.52ya-xBbwXj22ftNAEEXSua_2AxX3Uj2JBTkMSCEOqU&dib_tag=se&keywords=minimalist%2Bwall%2Bart&qid=1726430681&sprefix=minimalist%2Bwall%2Bart%2Caps%2C122&sr=8-8&th=1'\n",
    "\n",
    "\n",
    "headers = {\"User-Agent\": \"Mozilla/5.0 (Windows NT 10.0; Win64; x64) AppleWebKit/537.36 (KHTML, like Gecko) Chrome/128.0.0.0 Safari/537.36\", \"Accept-Encoding\":\"gzip, deflate\", \"Accept\":\"text/html,application/xhtml+xml,application/xml;q=0.9,*/*;q=0.8\", \"DNT\":\"1\",\"Connection\":\"close\", \"Upgrade-Insecure-Requests\":\"1\"}\n",
    "\n",
    "page = requests.get(URL, headers=headers)\n",
    "\n",
    "soup1 = BeautifulSoup(page.content, \"html.parser\")\n",
    "\n",
    "\n",
    "soup2 = BeautifulSoup(soup1.prettify(), \"html.parser\")\n",
    "\n",
    "title = soup2.find(id='productTitle').get_text()\n",
    "\n",
    " price_symbol = soup2.find(class_='a-price-symbol').get_text(strip=True)\n",
    "price_whole = soup2.find(class_='a-price-whole').get_text(strip=True)\n",
    "price_fraction = soup2.find(class_='a-price-fraction').get_text(strip=True)\n",
    "price = f'{price_symbol}{price_whole}{price_fraction}'\n",
    "\n",
    "\n",
    "print(title)\n",
    "print(price)\n",
    "\n",
    "\n",
    "\n",
    "\n",
    "\n"
   ]
  },
  {
   "cell_type": "code",
   "execution_count": null,
   "id": "d0a73c9c-1998-4939-b1c7-2277bf99fcb5",
   "metadata": {},
   "outputs": [],
   "source": [
    "# Cleaning data\n",
    "\n",
    "price = price.strip()[1:]\n",
    "title = title.strip()\n",
    "\n",
    "print(title)\n",
    "print(price)"
   ]
  },
  {
   "cell_type": "code",
   "execution_count": null,
   "id": "7e62751e-95c5-42c8-8bcd-be643cf30459",
   "metadata": {},
   "outputs": [],
   "source": [
    "# Creates timestamp so I can track when data was collected\n",
    "\n",
    "import datetime\n",
    "\n",
    "today = datetime.date.today()\n",
    "\n",
    "print(today)"
   ]
  },
  {
   "cell_type": "code",
   "execution_count": null,
   "id": "301a98c7-2d48-4452-b17d-afdf5091b53e",
   "metadata": {},
   "outputs": [],
   "source": [
    "# Creating CSV and writing headers into file\n",
    "\n",
    "import csv\n",
    "\n",
    "header = ['Title', 'Price', 'Date']\n",
    "data = [title, price, today]\n",
    "\n",
    "with open('AmazonWebScraperDataset.csv', 'w', newline='', encoding='UTF8') as f:\n",
    "    writer = csv.writer(f)\n",
    "    writer.writerow(header)\n",
    "    writer.writerow(data)\n"
   ]
  },
  {
   "cell_type": "code",
   "execution_count": null,
   "id": "94b88bb4-6308-4c64-af40-2b95df82167a",
   "metadata": {},
   "outputs": [],
   "source": [
    "import pandas as pd\n",
    "\n",
    "df = pd.read_csv(r'C:\\Users\\Joshua\\AmazonWebScraperDataset.csv')\n",
    "\n",
    "print(df)"
   ]
  },
  {
   "cell_type": "code",
   "execution_count": null,
   "id": "8e6eca93-2a9e-41b2-9df0-6ed8f961063d",
   "metadata": {},
   "outputs": [],
   "source": [
    "# Now I'm appending data to the csv\n",
    "\n",
    "with open('AmazonWebScraperDataset.csv', 'a+', newline='', encoding='UTF8') as f:\n",
    "    writer = csv.writer(f)\n",
    "    writer.writerow(data)"
   ]
  },
  {
   "cell_type": "code",
   "execution_count": null,
   "id": "f424b0e5-9a09-40cd-b6ed-58b4ec7db44d",
   "metadata": {},
   "outputs": [],
   "source": [
    "# Combining all of the above code into one function\n",
    "\n",
    "def check_price():\n",
    "    URL = 'https://www.amazon.com/Peryiter-Mountain-Abstract-Minimalist-Bathroom/dp/B0CCXNTLHB/ref=sr_1_8?crid=3P45KZAWQDLL0&dib=eyJ2IjoiMSJ9.19sXC6Yh2x9c2lhoOlXanC-ZA0v5qnUCCm9b7gfR_3oKo95iohQ145AR4sRX6LFAwQSuCgvMkbHaD2xeTEDzW26Y8WHQBCKELUbxHtWUT7rCrJ8503jEcEe2mYCofNmUv8Fqbt7THFCIqA67U_kaf06RQZcdCI9ir17O-C-Xl0hfJem11BNKxAzSXkotaVmltFUnOjEqHISp99D1U_pQ3CC0IbqOqlgxLejAwNd2uoYXSp8N8-1CkRW8tawULgeB9dnD_79DgOhXWWsmScrJcJSVrv8iN7YBRL2lCHvr1NQ.52ya-xBbwXj22ftNAEEXSua_2AxX3Uj2JBTkMSCEOqU&dib_tag=se&keywords=minimalist%2Bwall%2Bart&qid=1726430681&sprefix=minimalist%2Bwall%2Bart%2Caps%2C122&sr=8-8&th=1'\n",
    "\n",
    "\n",
    "    headers = {\"User-Agent\": \"Mozilla/5.0 (Windows NT 10.0; Win64; x64) AppleWebKit/537.36 (KHTML, like Gecko) Chrome/128.0.0.0 Safari/537.36\", \"Accept-Encoding\":\"gzip, deflate\", \"Accept\":\"text/html,application/xhtml+xml,application/xml;q=0.9,*/*;q=0.8\", \"DNT\":\"1\",\"Connection\":\"close\", \"Upgrade-Insecure-Requests\":\"1\"}\n",
    "\n",
    "    page = requests.get(URL, headers=headers)\n",
    "\n",
    "    soup1 = BeautifulSoup(page.content, \"html.parser\")\n",
    "\n",
    "\n",
    "    soup2 = BeautifulSoup(soup1.prettify(), \"html.parser\")\n",
    "\n",
    "    title = soup2.find(id='productTitle').get_text()\n",
    "\n",
    "    price = price_symbol = soup2.find(class_='a-price-symbol').get_text(strip=True)\n",
    "    price_whole = soup2.find(class_='a-price-whole').get_text(strip=True)\n",
    "    price_fraction = soup2.find(class_='a-price-fraction').get_text(strip=True)\n",
    "    price = f'{price_symbol}{price_whole}{price_fraction}'\n",
    "\n",
    "    price = price.strip()[1:]\n",
    "    title = title.strip()\n",
    "\n",
    "    import datetime\n",
    "    today = datetime.date.today()\n",
    "\n",
    "    import csv\n",
    "\n",
    "    header = ['Title', 'Price', 'Date']\n",
    "    data = [title, price, today]\n",
    "\n",
    "    with open('AmazonWebScraperDataset.csv', 'a+', newline='', encoding='UTF8') as f:\n",
    "        writer = csv.writer(f)\n",
    "        writer.writerow(data)\n"
   ]
  },
  {
   "cell_type": "code",
   "execution_count": null,
   "id": "0e0db0ad-81ae-4031-9060-c94d850b18e1",
   "metadata": {},
   "outputs": [],
   "source": [
    "#Runs check_price once a day and inputs the data into the CSV\n",
    "\n",
    "while(True):\n",
    "    check_price()\n",
    "    time.sleep(86400)"
   ]
  },
  {
   "cell_type": "code",
   "execution_count": null,
   "id": "4b0c31cf-07a8-4713-b61a-25bfff34446f",
   "metadata": {},
   "outputs": [],
   "source": [
    "import pandas as pd\n",
    "\n",
    "df = pd.read_csv(r'C:\\Users\\Joshua\\AmazonWebScraperDataset.csv')\n",
    "\n",
    "print(df)"
   ]
  }
 ],
 "metadata": {
  "kernelspec": {
   "display_name": "Python 3 (ipykernel)",
   "language": "python",
   "name": "python3"
  },
  "language_info": {
   "codemirror_mode": {
    "name": "ipython",
    "version": 3
   },
   "file_extension": ".py",
   "mimetype": "text/x-python",
   "name": "python",
   "nbconvert_exporter": "python",
   "pygments_lexer": "ipython3",
   "version": "3.12.4"
  }
 },
 "nbformat": 4,
 "nbformat_minor": 5
}
